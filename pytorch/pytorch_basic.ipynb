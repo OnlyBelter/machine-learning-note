{
 "cells": [
  {
   "cell_type": "markdown",
   "metadata": {
    "colab_type": "text",
    "id": "view-in-github"
   },
   "source": [
    "<a href=\"https://colab.research.google.com/github/OnlyBelter/machine-learning-note/blob/master/pytorch/pytorch_basic.ipynb\" target=\"_parent\"><img src=\"https://colab.research.google.com/assets/colab-badge.svg\" alt=\"Open In Colab\"/></a>"
   ]
  },
  {
   "cell_type": "markdown",
   "metadata": {
    "id": "ZClsmI9Aekej"
   },
   "source": [
    "Reference:\n",
    "\n",
    "\n",
    "*   https://pytorch.org/tutorials/beginner/basics/intro.html\n",
    "*   https://youtu.be/OMDn66kM9Qc?si=p_CggEi2Rvhv6NKK\n",
    "\n"
   ]
  },
  {
   "cell_type": "code",
   "execution_count": 1,
   "metadata": {
    "id": "EMjxzMlOtiDy"
   },
   "outputs": [],
   "source": [
    "import os\n",
    "import torch\n",
    "from torch import nn\n",
    "from torch.utils.data import DataLoader\n",
    "from torchvision import datasets, transforms\n",
    "from torchvision.transforms import ToTensor"
   ]
  },
  {
   "cell_type": "code",
   "execution_count": 2,
   "metadata": {
    "colab": {
     "base_uri": "https://localhost:8080/"
    },
    "id": "hBzKTNuHtx2k",
    "outputId": "d04614c1-b475-47f7-d36f-abf16c15f9bf"
   },
   "outputs": [
    {
     "name": "stdout",
     "output_type": "stream",
     "text": [
      "Using cpu device\n"
     ]
    }
   ],
   "source": [
    "device = (\n",
    "\"cuda\"\n",
    "if torch.cuda.is_available()\n",
    "else \"mps\"\n",
    "if torch.backends.mps.is_available()\n",
    "else \"cpu\"\n",
    ")\n",
    "print(f\"Using {device} device\")"
   ]
  },
  {
   "cell_type": "code",
   "execution_count": 3,
   "metadata": {
    "id": "wKfV9ToFuC93"
   },
   "outputs": [],
   "source": [
    "class NeuralNetwork(nn.Module):\n",
    "    def __init__(self):\n",
    "        super().__init__()\n",
    "        self.flatten = nn.Flatten()\n",
    "        self.linear_relu_stack = nn.Sequential(\n",
    "            nn.Linear(28*28, 512),\n",
    "            nn.ReLU(),\n",
    "            nn.Linear(512, 512),\n",
    "            nn.ReLU(),\n",
    "            nn.Linear(512, 10),\n",
    "        )\n",
    "\n",
    "    def forward(self, x):\n",
    "        x = self.flatten(x)\n",
    "        logits = self.linear_relu_stack(x)\n",
    "        return logits"
   ]
  },
  {
   "cell_type": "code",
   "execution_count": 4,
   "metadata": {
    "colab": {
     "base_uri": "https://localhost:8080/"
    },
    "id": "zXVgcvrTuGza",
    "outputId": "5f104f2c-7001-4c1d-bd7f-1f50ae8c632c"
   },
   "outputs": [
    {
     "name": "stdout",
     "output_type": "stream",
     "text": [
      "NeuralNetwork(\n",
      "  (flatten): Flatten(start_dim=1, end_dim=-1)\n",
      "  (linear_relu_stack): Sequential(\n",
      "    (0): Linear(in_features=784, out_features=512, bias=True)\n",
      "    (1): ReLU()\n",
      "    (2): Linear(in_features=512, out_features=512, bias=True)\n",
      "    (3): ReLU()\n",
      "    (4): Linear(in_features=512, out_features=10, bias=True)\n",
      "  )\n",
      ")\n"
     ]
    }
   ],
   "source": [
    "model = NeuralNetwork().to(device)\n",
    "print(model)"
   ]
  },
  {
   "cell_type": "code",
   "execution_count": 5,
   "metadata": {
    "id": "TPnUPiwTuLDX"
   },
   "outputs": [],
   "source": [
    "loss_fn = nn.CrossEntropyLoss()"
   ]
  },
  {
   "cell_type": "code",
   "execution_count": 6,
   "metadata": {
    "id": "frDgncwhxUr3"
   },
   "outputs": [],
   "source": [
    "learning_rate = 0.001\n",
    "batch_size = 64\n",
    "optimizer = torch.optim.SGD(model.parameters(), lr=learning_rate)"
   ]
  },
  {
   "cell_type": "code",
   "execution_count": 7,
   "metadata": {
    "id": "Oci5g-ZNxi9X"
   },
   "outputs": [],
   "source": [
    "def train_loop(dataloader, model, loss_fn, optimizer, batch_size=64):\n",
    "    size = len(dataloader.dataset)\n",
    "    # Set the model to training mode - important for batch normalization and dropout layers\n",
    "    # Unnecessary in this situation but added for best practices\n",
    "    model.train()\n",
    "    for batch, (X, y) in enumerate(dataloader):\n",
    "        ## Compute prediction and loss\n",
    "\n",
    "        # 1 forward\n",
    "        pred = model(X)\n",
    "\n",
    "        # 2 compute the objective function\n",
    "        loss = loss_fn(pred, y)\n",
    "\n",
    "        # 3 cleaning the gradients\n",
    "        optimizer.zero_grad()\n",
    "\n",
    "        ## Backpropagation\n",
    "        # 4 accumulate the partial derivatives of loss wrt params\n",
    "        loss.backward() # params.grad._sum(dloss/dparams)\n",
    "\n",
    "        # 5 step in the opposite direction of the gradient\n",
    "        optimizer.step() # with torch.no_grad(): params = params - eta * params.grad\n",
    "\n",
    "        if batch % 100 == 0:\n",
    "            loss, current = loss.item(), batch * batch_size + len(X)\n",
    "            print(f\"loss: {loss:>7f}  [{current:>5d}/{size:>5d}]\")\n",
    "\n",
    "\n",
    "def test_loop(dataloader, model, loss_fn):\n",
    "    # Set the model to evaluation mode - important for batch normalization and dropout layers\n",
    "    # Unnecessary in this situation but added for best practices\n",
    "    model.eval()\n",
    "    size = len(dataloader.dataset)\n",
    "    num_batches = len(dataloader)\n",
    "    test_loss, correct = 0, 0\n",
    "\n",
    "    # Evaluating the model with torch.no_grad() ensures that no gradients are computed during test mode\n",
    "    # also serves to reduce unnecessary gradient computations and memory usage for tensors with requires_grad=True\n",
    "    with torch.no_grad():\n",
    "        for X, y in dataloader:\n",
    "            pred = model(X)\n",
    "            test_loss += loss_fn(pred, y).item()\n",
    "            correct += (pred.argmax(1) == y).type(torch.float).sum().item()\n",
    "\n",
    "    test_loss /= num_batches\n",
    "    correct /= size\n",
    "    print(f\"Test Error: \\n Accuracy: {(100*correct):>0.1f}%, Avg loss: {test_loss:>8f} \\n\")"
   ]
  },
  {
   "cell_type": "code",
   "execution_count": 8,
   "metadata": {
    "colab": {
     "base_uri": "https://localhost:8080/"
    },
    "id": "561QwumtyA-J",
    "outputId": "ac702f40-d33b-4917-c28b-55dbd0863922"
   },
   "outputs": [
    {
     "name": "stdout",
     "output_type": "stream",
     "text": [
      "Downloading http://fashion-mnist.s3-website.eu-central-1.amazonaws.com/train-images-idx3-ubyte.gz\n",
      "Downloading http://fashion-mnist.s3-website.eu-central-1.amazonaws.com/train-images-idx3-ubyte.gz to data/FashionMNIST/raw/train-images-idx3-ubyte.gz\n"
     ]
    },
    {
     "name": "stderr",
     "output_type": "stream",
     "text": [
      "100%|██████████| 26.4M/26.4M [00:01<00:00, 15.5MB/s]\n"
     ]
    },
    {
     "name": "stdout",
     "output_type": "stream",
     "text": [
      "Extracting data/FashionMNIST/raw/train-images-idx3-ubyte.gz to data/FashionMNIST/raw\n",
      "\n",
      "Downloading http://fashion-mnist.s3-website.eu-central-1.amazonaws.com/train-labels-idx1-ubyte.gz\n",
      "Downloading http://fashion-mnist.s3-website.eu-central-1.amazonaws.com/train-labels-idx1-ubyte.gz to data/FashionMNIST/raw/train-labels-idx1-ubyte.gz\n"
     ]
    },
    {
     "name": "stderr",
     "output_type": "stream",
     "text": [
      "100%|██████████| 29.5k/29.5k [00:00<00:00, 229kB/s]\n"
     ]
    },
    {
     "name": "stdout",
     "output_type": "stream",
     "text": [
      "Extracting data/FashionMNIST/raw/train-labels-idx1-ubyte.gz to data/FashionMNIST/raw\n",
      "\n",
      "Downloading http://fashion-mnist.s3-website.eu-central-1.amazonaws.com/t10k-images-idx3-ubyte.gz\n",
      "Downloading http://fashion-mnist.s3-website.eu-central-1.amazonaws.com/t10k-images-idx3-ubyte.gz to data/FashionMNIST/raw/t10k-images-idx3-ubyte.gz\n"
     ]
    },
    {
     "name": "stderr",
     "output_type": "stream",
     "text": [
      "100%|██████████| 4.42M/4.42M [00:01<00:00, 4.32MB/s]\n"
     ]
    },
    {
     "name": "stdout",
     "output_type": "stream",
     "text": [
      "Extracting data/FashionMNIST/raw/t10k-images-idx3-ubyte.gz to data/FashionMNIST/raw\n",
      "\n",
      "Downloading http://fashion-mnist.s3-website.eu-central-1.amazonaws.com/t10k-labels-idx1-ubyte.gz\n",
      "Downloading http://fashion-mnist.s3-website.eu-central-1.amazonaws.com/t10k-labels-idx1-ubyte.gz to data/FashionMNIST/raw/t10k-labels-idx1-ubyte.gz\n"
     ]
    },
    {
     "name": "stderr",
     "output_type": "stream",
     "text": [
      "100%|██████████| 5.15k/5.15k [00:00<00:00, 15.8MB/s]"
     ]
    },
    {
     "name": "stdout",
     "output_type": "stream",
     "text": [
      "Extracting data/FashionMNIST/raw/t10k-labels-idx1-ubyte.gz to data/FashionMNIST/raw\n",
      "\n"
     ]
    },
    {
     "name": "stderr",
     "output_type": "stream",
     "text": [
      "\n"
     ]
    }
   ],
   "source": [
    "training_data = datasets.FashionMNIST(\n",
    "    root=\"data\",\n",
    "    train=True,\n",
    "    download=True,\n",
    "    transform=ToTensor()\n",
    ")\n",
    "\n",
    "test_data = datasets.FashionMNIST(\n",
    "    root=\"data\",\n",
    "    train=False,\n",
    "    download=True,\n",
    "    transform=ToTensor()\n",
    ")\n",
    "\n",
    "train_dataloader = DataLoader(training_data, batch_size=batch_size)\n",
    "test_dataloader = DataLoader(test_data, batch_size=batch_size)"
   ]
  },
  {
   "cell_type": "code",
   "execution_count": 9,
   "metadata": {
    "colab": {
     "base_uri": "https://localhost:8080/"
    },
    "id": "Hjy1RZ4xx0ao",
    "outputId": "a93d847c-c945-454b-9f0e-16090a9f5365"
   },
   "outputs": [
    {
     "name": "stdout",
     "output_type": "stream",
     "text": [
      "Epoch 1\n",
      "-------------------------------\n",
      "loss: 2.293028  [   64/60000]\n",
      "loss: 2.281813  [ 6464/60000]\n",
      "loss: 2.266456  [12864/60000]\n",
      "loss: 2.261850  [19264/60000]\n",
      "loss: 2.253941  [25664/60000]\n",
      "loss: 2.225630  [32064/60000]\n",
      "loss: 2.231944  [38464/60000]\n",
      "loss: 2.198348  [44864/60000]\n",
      "loss: 2.190732  [51264/60000]\n",
      "loss: 2.170475  [57664/60000]\n",
      "Test Error: \n",
      " Accuracy: 52.1%, Avg loss: 2.157943 \n",
      "\n",
      "Epoch 2\n",
      "-------------------------------\n",
      "loss: 2.166313  [   64/60000]\n",
      "loss: 2.149914  [ 6464/60000]\n",
      "loss: 2.104220  [12864/60000]\n",
      "loss: 2.119308  [19264/60000]\n",
      "loss: 2.063360  [25664/60000]\n",
      "loss: 2.013458  [32064/60000]\n",
      "loss: 2.033087  [38464/60000]\n",
      "loss: 1.955152  [44864/60000]\n",
      "loss: 1.963674  [51264/60000]\n",
      "loss: 1.889008  [57664/60000]\n",
      "Test Error: \n",
      " Accuracy: 59.7%, Avg loss: 1.889048 \n",
      "\n",
      "Epoch 3\n",
      "-------------------------------\n",
      "loss: 1.918791  [   64/60000]\n",
      "loss: 1.883032  [ 6464/60000]\n",
      "loss: 1.781850  [12864/60000]\n",
      "loss: 1.818143  [19264/60000]\n",
      "loss: 1.699528  [25664/60000]\n",
      "loss: 1.663056  [32064/60000]\n",
      "loss: 1.669441  [38464/60000]\n",
      "loss: 1.574698  [44864/60000]\n",
      "loss: 1.606750  [51264/60000]\n",
      "loss: 1.491715  [57664/60000]\n",
      "Test Error: \n",
      " Accuracy: 61.7%, Avg loss: 1.515871 \n",
      "\n",
      "Epoch 4\n",
      "-------------------------------\n",
      "loss: 1.580829  [   64/60000]\n",
      "loss: 1.540854  [ 6464/60000]\n",
      "loss: 1.403345  [12864/60000]\n",
      "loss: 1.468216  [19264/60000]\n",
      "loss: 1.344626  [25664/60000]\n",
      "loss: 1.353173  [32064/60000]\n",
      "loss: 1.350838  [38464/60000]\n",
      "loss: 1.277694  [44864/60000]\n",
      "loss: 1.320135  [51264/60000]\n",
      "loss: 1.216142  [57664/60000]\n",
      "Test Error: \n",
      " Accuracy: 63.5%, Avg loss: 1.242175 \n",
      "\n",
      "Epoch 5\n",
      "-------------------------------\n",
      "loss: 1.316158  [   64/60000]\n",
      "loss: 1.294434  [ 6464/60000]\n",
      "loss: 1.135069  [12864/60000]\n",
      "loss: 1.240706  [19264/60000]\n",
      "loss: 1.111453  [25664/60000]\n",
      "loss: 1.146734  [32064/60000]\n",
      "loss: 1.155970  [38464/60000]\n",
      "loss: 1.093774  [44864/60000]\n",
      "loss: 1.140729  [51264/60000]\n",
      "loss: 1.054918  [57664/60000]\n",
      "Test Error: \n",
      " Accuracy: 64.8%, Avg loss: 1.073564 \n",
      "\n",
      "Epoch 6\n",
      "-------------------------------\n",
      "loss: 1.140062  [   64/60000]\n",
      "loss: 1.139341  [ 6464/60000]\n",
      "loss: 0.960884  [12864/60000]\n",
      "loss: 1.100189  [19264/60000]\n",
      "loss: 0.969533  [25664/60000]\n",
      "loss: 1.009631  [32064/60000]\n",
      "loss: 1.036386  [38464/60000]\n",
      "loss: 0.979231  [44864/60000]\n",
      "loss: 1.025551  [51264/60000]\n",
      "loss: 0.955250  [57664/60000]\n",
      "Test Error: \n",
      " Accuracy: 66.2%, Avg loss: 0.966480 \n",
      "\n",
      "Epoch 7\n",
      "-------------------------------\n",
      "loss: 1.019647  [   64/60000]\n",
      "loss: 1.040618  [ 6464/60000]\n",
      "loss: 0.844094  [12864/60000]\n",
      "loss: 1.008249  [19264/60000]\n",
      "loss: 0.881177  [25664/60000]\n",
      "loss: 0.915654  [32064/60000]\n",
      "loss: 0.958935  [38464/60000]\n",
      "loss: 0.906620  [44864/60000]\n",
      "loss: 0.947850  [51264/60000]\n",
      "loss: 0.889883  [57664/60000]\n",
      "Test Error: \n",
      " Accuracy: 67.4%, Avg loss: 0.895175 \n",
      "\n",
      "Epoch 8\n",
      "-------------------------------\n",
      "loss: 0.933336  [   64/60000]\n",
      "loss: 0.973755  [ 6464/60000]\n",
      "loss: 0.762240  [12864/60000]\n",
      "loss: 0.944440  [19264/60000]\n",
      "loss: 0.824007  [25664/60000]\n",
      "loss: 0.849047  [32064/60000]\n",
      "loss: 0.905303  [38464/60000]\n",
      "loss: 0.859515  [44864/60000]\n",
      "loss: 0.893210  [51264/60000]\n",
      "loss: 0.844138  [57664/60000]\n",
      "Test Error: \n",
      " Accuracy: 68.7%, Avg loss: 0.845000 \n",
      "\n",
      "Epoch 9\n",
      "-------------------------------\n",
      "loss: 0.868410  [   64/60000]\n",
      "loss: 0.924772  [ 6464/60000]\n",
      "loss: 0.702369  [12864/60000]\n",
      "loss: 0.897879  [19264/60000]\n",
      "loss: 0.784321  [25664/60000]\n",
      "loss: 0.800197  [32064/60000]\n",
      "loss: 0.865398  [38464/60000]\n",
      "loss: 0.827325  [44864/60000]\n",
      "loss: 0.852792  [51264/60000]\n",
      "loss: 0.809751  [57664/60000]\n",
      "Test Error: \n",
      " Accuracy: 70.0%, Avg loss: 0.807552 \n",
      "\n",
      "Epoch 10\n",
      "-------------------------------\n",
      "loss: 0.817237  [   64/60000]\n",
      "loss: 0.886236  [ 6464/60000]\n",
      "loss: 0.656559  [12864/60000]\n",
      "loss: 0.862367  [19264/60000]\n",
      "loss: 0.754892  [25664/60000]\n",
      "loss: 0.763356  [32064/60000]\n",
      "loss: 0.833598  [38464/60000]\n",
      "loss: 0.803503  [44864/60000]\n",
      "loss: 0.821277  [51264/60000]\n",
      "loss: 0.782385  [57664/60000]\n",
      "Test Error: \n",
      " Accuracy: 71.4%, Avg loss: 0.777918 \n",
      "\n",
      "Done!\n"
     ]
    }
   ],
   "source": [
    "epochs = 10\n",
    "for t in range(epochs):\n",
    "    print(f\"Epoch {t+1}\\n-------------------------------\")\n",
    "    train_loop(train_dataloader, model, loss_fn, optimizer)\n",
    "    test_loop(test_dataloader, model, loss_fn)\n",
    "print(\"Done!\")"
   ]
  },
  {
   "cell_type": "code",
   "execution_count": 9,
   "metadata": {
    "id": "xv785zkhx41l"
   },
   "outputs": [],
   "source": []
  }
 ],
 "metadata": {
  "colab": {
   "authorship_tag": "ABX9TyOk6olnqXbBo/PixSthig1Y",
   "include_colab_link": true,
   "provenance": []
  },
  "kernelspec": {
   "display_name": "Python 3 (ipykernel)",
   "language": "python",
   "name": "python3"
  },
  "language_info": {
   "codemirror_mode": {
    "name": "ipython",
    "version": 3
   },
   "file_extension": ".py",
   "mimetype": "text/x-python",
   "name": "python",
   "nbconvert_exporter": "python",
   "pygments_lexer": "ipython3",
   "version": "3.8.16"
  }
 },
 "nbformat": 4,
 "nbformat_minor": 4
}
