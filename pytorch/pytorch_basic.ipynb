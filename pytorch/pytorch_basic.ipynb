{
  "nbformat": 4,
  "nbformat_minor": 0,
  "metadata": {
    "colab": {
      "provenance": [],
      "authorship_tag": "ABX9TyNrjkX3LDKQ/C64L7s5DcY5",
      "include_colab_link": true
    },
    "kernelspec": {
      "name": "python3",
      "display_name": "Python 3"
    },
    "language_info": {
      "name": "python"
    }
  },
  "cells": [
    {
      "cell_type": "markdown",
      "metadata": {
        "id": "view-in-github",
        "colab_type": "text"
      },
      "source": [
        "<a href=\"https://colab.research.google.com/github/OnlyBelter/machine-learning-note/blob/master/pytorch/pytorch_basic.ipynb\" target=\"_parent\"><img src=\"https://colab.research.google.com/assets/colab-badge.svg\" alt=\"Open In Colab\"/></a>"
      ]
    },
    {
      "cell_type": "code",
      "execution_count": 10,
      "metadata": {
        "id": "EMjxzMlOtiDy"
      },
      "outputs": [],
      "source": [
        "import os\n",
        "import torch\n",
        "from torch import nn\n",
        "from torch.utils.data import DataLoader\n",
        "from torchvision import datasets, transforms\n",
        "from torchvision.transforms import ToTensor"
      ]
    },
    {
      "cell_type": "code",
      "source": [
        "device = (\n",
        "\"cuda\"\n",
        "if torch.cuda.is_available()\n",
        "else \"mps\"\n",
        "if torch.backends.mps.is_available()\n",
        "else \"cpu\"\n",
        ")\n",
        "print(f\"Using {device} device\")"
      ],
      "metadata": {
        "colab": {
          "base_uri": "https://localhost:8080/"
        },
        "id": "hBzKTNuHtx2k",
        "outputId": "3fa9385f-1a7d-4cb5-89ab-22a6a7ec5440"
      },
      "execution_count": 11,
      "outputs": [
        {
          "output_type": "stream",
          "name": "stdout",
          "text": [
            "Using cpu device\n"
          ]
        }
      ]
    },
    {
      "cell_type": "code",
      "source": [
        "class NeuralNetwork(nn.Module):\n",
        "    def __init__(self):\n",
        "        super().__init__()\n",
        "        self.flatten = nn.Flatten()\n",
        "        self.linear_relu_stack = nn.Sequential(\n",
        "            nn.Linear(28*28, 512),\n",
        "            nn.ReLU(),\n",
        "            nn.Linear(512, 512),\n",
        "            nn.ReLU(),\n",
        "            nn.Linear(512, 10),\n",
        "        )\n",
        "\n",
        "    def forward(self, x):\n",
        "        x = self.flatten(x)\n",
        "        logits = self.linear_relu_stack(x)\n",
        "        return logits"
      ],
      "metadata": {
        "id": "wKfV9ToFuC93"
      },
      "execution_count": 12,
      "outputs": []
    },
    {
      "cell_type": "code",
      "source": [
        "model = NeuralNetwork().to(device)\n",
        "print(model)"
      ],
      "metadata": {
        "colab": {
          "base_uri": "https://localhost:8080/"
        },
        "id": "zXVgcvrTuGza",
        "outputId": "f6fbad30-6948-49f5-8e85-575db9b10577"
      },
      "execution_count": 13,
      "outputs": [
        {
          "output_type": "stream",
          "name": "stdout",
          "text": [
            "NeuralNetwork(\n",
            "  (flatten): Flatten(start_dim=1, end_dim=-1)\n",
            "  (linear_relu_stack): Sequential(\n",
            "    (0): Linear(in_features=784, out_features=512, bias=True)\n",
            "    (1): ReLU()\n",
            "    (2): Linear(in_features=512, out_features=512, bias=True)\n",
            "    (3): ReLU()\n",
            "    (4): Linear(in_features=512, out_features=10, bias=True)\n",
            "  )\n",
            ")\n"
          ]
        }
      ]
    },
    {
      "cell_type": "code",
      "source": [
        "loss_fn = nn.CrossEntropyLoss()"
      ],
      "metadata": {
        "id": "TPnUPiwTuLDX"
      },
      "execution_count": 14,
      "outputs": []
    },
    {
      "cell_type": "code",
      "source": [
        "learning_rate = 0.001\n",
        "batch_size = 64\n",
        "optimizer = torch.optim.SGD(model.parameters(), lr=learning_rate)"
      ],
      "metadata": {
        "id": "frDgncwhxUr3"
      },
      "execution_count": 15,
      "outputs": []
    },
    {
      "cell_type": "code",
      "source": [
        "def train_loop(dataloader, model, loss_fn, optimizer, batch_size=64):\n",
        "    size = len(dataloader.dataset)\n",
        "    # Set the model to training mode - important for batch normalization and dropout layers\n",
        "    # Unnecessary in this situation but added for best practices\n",
        "    model.train()\n",
        "    for batch, (X, y) in enumerate(dataloader):\n",
        "        # Compute prediction and loss\n",
        "        pred = model(X)\n",
        "        loss = loss_fn(pred, y)\n",
        "\n",
        "        # Backpropagation\n",
        "        loss.backward()\n",
        "        optimizer.step()\n",
        "        optimizer.zero_grad()\n",
        "\n",
        "        if batch % 100 == 0:\n",
        "            loss, current = loss.item(), batch * batch_size + len(X)\n",
        "            print(f\"loss: {loss:>7f}  [{current:>5d}/{size:>5d}]\")\n",
        "\n",
        "\n",
        "def test_loop(dataloader, model, loss_fn):\n",
        "    # Set the model to evaluation mode - important for batch normalization and dropout layers\n",
        "    # Unnecessary in this situation but added for best practices\n",
        "    model.eval()\n",
        "    size = len(dataloader.dataset)\n",
        "    num_batches = len(dataloader)\n",
        "    test_loss, correct = 0, 0\n",
        "\n",
        "    # Evaluating the model with torch.no_grad() ensures that no gradients are computed during test mode\n",
        "    # also serves to reduce unnecessary gradient computations and memory usage for tensors with requires_grad=True\n",
        "    with torch.no_grad():\n",
        "        for X, y in dataloader:\n",
        "            pred = model(X)\n",
        "            test_loss += loss_fn(pred, y).item()\n",
        "            correct += (pred.argmax(1) == y).type(torch.float).sum().item()\n",
        "\n",
        "    test_loss /= num_batches\n",
        "    correct /= size\n",
        "    print(f\"Test Error: \\n Accuracy: {(100*correct):>0.1f}%, Avg loss: {test_loss:>8f} \\n\")"
      ],
      "metadata": {
        "id": "Oci5g-ZNxi9X"
      },
      "execution_count": 16,
      "outputs": []
    },
    {
      "cell_type": "code",
      "source": [
        "training_data = datasets.FashionMNIST(\n",
        "    root=\"data\",\n",
        "    train=True,\n",
        "    download=True,\n",
        "    transform=ToTensor()\n",
        ")\n",
        "\n",
        "test_data = datasets.FashionMNIST(\n",
        "    root=\"data\",\n",
        "    train=False,\n",
        "    download=True,\n",
        "    transform=ToTensor()\n",
        ")\n",
        "\n",
        "train_dataloader = DataLoader(training_data, batch_size=batch_size)\n",
        "test_dataloader = DataLoader(test_data, batch_size=batch_size)"
      ],
      "metadata": {
        "id": "561QwumtyA-J"
      },
      "execution_count": 17,
      "outputs": []
    },
    {
      "cell_type": "code",
      "source": [
        "epochs = 10\n",
        "for t in range(epochs):\n",
        "    print(f\"Epoch {t+1}\\n-------------------------------\")\n",
        "    train_loop(train_dataloader, model, loss_fn, optimizer)\n",
        "    test_loop(test_dataloader, model, loss_fn)\n",
        "print(\"Done!\")"
      ],
      "metadata": {
        "colab": {
          "base_uri": "https://localhost:8080/"
        },
        "id": "Hjy1RZ4xx0ao",
        "outputId": "56859621-961e-4eb8-9e66-c354d393d935"
      },
      "execution_count": 18,
      "outputs": [
        {
          "output_type": "stream",
          "name": "stdout",
          "text": [
            "Epoch 1\n",
            "-------------------------------\n",
            "loss: 2.311529  [   64/60000]\n",
            "loss: 2.288005  [ 6464/60000]\n",
            "loss: 2.272263  [12864/60000]\n",
            "loss: 2.257172  [19264/60000]\n",
            "loss: 2.238148  [25664/60000]\n",
            "loss: 2.213179  [32064/60000]\n",
            "loss: 2.219766  [38464/60000]\n",
            "loss: 2.185527  [44864/60000]\n",
            "loss: 2.174778  [51264/60000]\n",
            "loss: 2.147831  [57664/60000]\n",
            "Test Error: \n",
            " Accuracy: 43.6%, Avg loss: 2.134018 \n",
            "\n",
            "Epoch 2\n",
            "-------------------------------\n",
            "loss: 2.148134  [   64/60000]\n",
            "loss: 2.138021  [ 6464/60000]\n",
            "loss: 2.078016  [12864/60000]\n",
            "loss: 2.088645  [19264/60000]\n",
            "loss: 2.038061  [25664/60000]\n",
            "loss: 1.971737  [32064/60000]\n",
            "loss: 2.001450  [38464/60000]\n",
            "loss: 1.915608  [44864/60000]\n",
            "loss: 1.918076  [51264/60000]\n",
            "loss: 1.851649  [57664/60000]\n",
            "Test Error: \n",
            " Accuracy: 58.4%, Avg loss: 1.839714 \n",
            "\n",
            "Epoch 3\n",
            "-------------------------------\n",
            "loss: 1.876118  [   64/60000]\n",
            "loss: 1.847458  [ 6464/60000]\n",
            "loss: 1.724760  [12864/60000]\n",
            "loss: 1.765111  [19264/60000]\n",
            "loss: 1.656437  [25664/60000]\n",
            "loss: 1.610066  [32064/60000]\n",
            "loss: 1.631563  [38464/60000]\n",
            "loss: 1.530083  [44864/60000]\n",
            "loss: 1.554407  [51264/60000]\n",
            "loss: 1.464601  [57664/60000]\n",
            "Test Error: \n",
            " Accuracy: 61.4%, Avg loss: 1.470294 \n",
            "\n",
            "Epoch 4\n",
            "-------------------------------\n",
            "loss: 1.538641  [   64/60000]\n",
            "loss: 1.510610  [ 6464/60000]\n",
            "loss: 1.359106  [12864/60000]\n",
            "loss: 1.431677  [19264/60000]\n",
            "loss: 1.315879  [25664/60000]\n",
            "loss: 1.317594  [32064/60000]\n",
            "loss: 1.332791  [38464/60000]\n",
            "loss: 1.253757  [44864/60000]\n",
            "loss: 1.285926  [51264/60000]\n",
            "loss: 1.212142  [57664/60000]\n",
            "Test Error: \n",
            " Accuracy: 62.9%, Avg loss: 1.219363 \n",
            "\n",
            "Epoch 5\n",
            "-------------------------------\n",
            "loss: 1.294242  [   64/60000]\n",
            "loss: 1.285395  [ 6464/60000]\n",
            "loss: 1.118458  [12864/60000]\n",
            "loss: 1.224200  [19264/60000]\n",
            "loss: 1.101766  [25664/60000]\n",
            "loss: 1.130644  [32064/60000]\n",
            "loss: 1.153117  [38464/60000]\n",
            "loss: 1.085661  [44864/60000]\n",
            "loss: 1.119744  [51264/60000]\n",
            "loss: 1.065856  [57664/60000]\n",
            "Test Error: \n",
            " Accuracy: 64.5%, Avg loss: 1.065813 \n",
            "\n",
            "Epoch 6\n",
            "-------------------------------\n",
            "loss: 1.133876  [   64/60000]\n",
            "loss: 1.146102  [ 6464/60000]\n",
            "loss: 0.963459  [12864/60000]\n",
            "loss: 1.095264  [19264/60000]\n",
            "loss: 0.972142  [25664/60000]\n",
            "loss: 1.004652  [32064/60000]\n",
            "loss: 1.040938  [38464/60000]\n",
            "loss: 0.979863  [44864/60000]\n",
            "loss: 1.011272  [51264/60000]\n",
            "loss: 0.973463  [57664/60000]\n",
            "Test Error: \n",
            " Accuracy: 65.9%, Avg loss: 0.966696 \n",
            "\n",
            "Epoch 7\n",
            "-------------------------------\n",
            "loss: 1.022185  [   64/60000]\n",
            "loss: 1.055365  [ 6464/60000]\n",
            "loss: 0.857980  [12864/60000]\n",
            "loss: 1.008916  [19264/60000]\n",
            "loss: 0.890678  [25664/60000]\n",
            "loss: 0.915413  [32064/60000]\n",
            "loss: 0.966199  [38464/60000]\n",
            "loss: 0.911432  [44864/60000]\n",
            "loss: 0.936829  [51264/60000]\n",
            "loss: 0.910567  [57664/60000]\n",
            "Test Error: \n",
            " Accuracy: 67.3%, Avg loss: 0.898772 \n",
            "\n",
            "Epoch 8\n",
            "-------------------------------\n",
            "loss: 0.940367  [   64/60000]\n",
            "loss: 0.991298  [ 6464/60000]\n",
            "loss: 0.782063  [12864/60000]\n",
            "loss: 0.947311  [19264/60000]\n",
            "loss: 0.835945  [25664/60000]\n",
            "loss: 0.849693  [32064/60000]\n",
            "loss: 0.912457  [38464/60000]\n",
            "loss: 0.865842  [44864/60000]\n",
            "loss: 0.883465  [51264/60000]\n",
            "loss: 0.864407  [57664/60000]\n",
            "Test Error: \n",
            " Accuracy: 68.6%, Avg loss: 0.849561 \n",
            "\n",
            "Epoch 9\n",
            "-------------------------------\n",
            "loss: 0.877398  [   64/60000]\n",
            "loss: 0.942462  [ 6464/60000]\n",
            "loss: 0.724738  [12864/60000]\n",
            "loss: 0.900972  [19264/60000]\n",
            "loss: 0.796611  [25664/60000]\n",
            "loss: 0.800075  [32064/60000]\n",
            "loss: 0.871388  [38464/60000]\n",
            "loss: 0.834076  [44864/60000]\n",
            "loss: 0.843766  [51264/60000]\n",
            "loss: 0.828583  [57664/60000]\n",
            "Test Error: \n",
            " Accuracy: 69.8%, Avg loss: 0.812098 \n",
            "\n",
            "Epoch 10\n",
            "-------------------------------\n",
            "loss: 0.826910  [   64/60000]\n",
            "loss: 0.902757  [ 6464/60000]\n",
            "loss: 0.679506  [12864/60000]\n",
            "loss: 0.864751  [19264/60000]\n",
            "loss: 0.766849  [25664/60000]\n",
            "loss: 0.761862  [32064/60000]\n",
            "loss: 0.838197  [38464/60000]\n",
            "loss: 0.810439  [44864/60000]\n",
            "loss: 0.812964  [51264/60000]\n",
            "loss: 0.799338  [57664/60000]\n",
            "Test Error: \n",
            " Accuracy: 71.4%, Avg loss: 0.782170 \n",
            "\n",
            "Done!\n"
          ]
        }
      ]
    },
    {
      "cell_type": "code",
      "source": [],
      "metadata": {
        "id": "xv785zkhx41l"
      },
      "execution_count": 18,
      "outputs": []
    }
  ]
}