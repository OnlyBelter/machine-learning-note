{
 "cells": [
  {
   "cell_type": "markdown",
   "metadata": {
    "colab_type": "text",
    "id": "view-in-github"
   },
   "source": [
    "<a href=\"https://colab.research.google.com/github/OnlyBelter/machine-learning-note/blob/master/pytorch/pytorch_GPU.ipynb\" target=\"_parent\"><img src=\"https://colab.research.google.com/assets/colab-badge.svg\" alt=\"Open In Colab\"/></a>"
   ]
  },
  {
   "cell_type": "markdown",
   "metadata": {
    "id": "ZClsmI9Aekej"
   },
   "source": [
    "Reference:\n",
    "\n",
    "\n",
    "*   https://pytorch.org/tutorials/beginner/basics/intro.html\n",
    "*   https://youtu.be/OMDn66kM9Qc?si=p_CggEi2Rvhv6NKK\n",
    "\n",
    "*   The lines with the comment \"<-- here\" need to be addressed to enable GPU usage.\n",
    "\n",
    "\n",
    "\n",
    "\n"
   ]
  },
  {
   "cell_type": "code",
   "execution_count": 1,
   "metadata": {
    "id": "EMjxzMlOtiDy"
   },
   "outputs": [],
   "source": [
    "import os\n",
    "import torch\n",
    "from torch import nn\n",
    "from torch.utils.data import DataLoader\n",
    "from torchvision import datasets, transforms\n",
    "from torchvision.transforms import ToTensor"
   ]
  },
  {
   "cell_type": "code",
   "execution_count": 2,
   "metadata": {
    "colab": {
     "base_uri": "https://localhost:8080/"
    },
    "id": "hBzKTNuHtx2k",
    "outputId": "9b4ab5a8-4bc7-4215-b28d-aefd2bb4662d"
   },
   "outputs": [
    {
     "name": "stdout",
     "output_type": "stream",
     "text": [
      "Using cuda device\n"
     ]
    }
   ],
   "source": [
    "device = (\n",
    "\"cuda\"\n",
    "if torch.cuda.is_available()\n",
    "else \"mps\"\n",
    "if torch.backends.mps.is_available()\n",
    "else \"cpu\"\n",
    ")\n",
    "print(f\"Using {device} device\")"
   ]
  },
  {
   "cell_type": "code",
   "execution_count": 3,
   "metadata": {
    "id": "wKfV9ToFuC93"
   },
   "outputs": [],
   "source": [
    "class NeuralNetwork(nn.Module):\n",
    "    def __init__(self):\n",
    "        super().__init__()\n",
    "        self.flatten = nn.Flatten()\n",
    "        self.linear_relu_stack = nn.Sequential(\n",
    "            nn.Linear(28*28, 512),\n",
    "            nn.ReLU(),\n",
    "            nn.Linear(512, 512),\n",
    "            nn.ReLU(),\n",
    "            nn.Linear(512, 10),\n",
    "        )\n",
    "\n",
    "    def forward(self, x):\n",
    "        x = self.flatten(x)\n",
    "        logits = self.linear_relu_stack(x)\n",
    "        return logits"
   ]
  },
  {
   "cell_type": "code",
   "execution_count": 4,
   "metadata": {
    "colab": {
     "base_uri": "https://localhost:8080/"
    },
    "id": "zXVgcvrTuGza",
    "outputId": "bc4ffd4b-aa03-49ff-a09a-7c96fafa25fc"
   },
   "outputs": [
    {
     "name": "stdout",
     "output_type": "stream",
     "text": [
      "NeuralNetwork(\n",
      "  (flatten): Flatten(start_dim=1, end_dim=-1)\n",
      "  (linear_relu_stack): Sequential(\n",
      "    (0): Linear(in_features=784, out_features=512, bias=True)\n",
      "    (1): ReLU()\n",
      "    (2): Linear(in_features=512, out_features=512, bias=True)\n",
      "    (3): ReLU()\n",
      "    (4): Linear(in_features=512, out_features=10, bias=True)\n",
      "  )\n",
      ")\n"
     ]
    }
   ],
   "source": [
    "model = NeuralNetwork().to(device)  # <-- here\n",
    "print(model)"
   ]
  },
  {
   "cell_type": "code",
   "execution_count": 5,
   "metadata": {
    "id": "TPnUPiwTuLDX"
   },
   "outputs": [],
   "source": [
    "loss_fn = nn.CrossEntropyLoss()"
   ]
  },
  {
   "cell_type": "code",
   "execution_count": 6,
   "metadata": {
    "id": "frDgncwhxUr3"
   },
   "outputs": [],
   "source": [
    "learning_rate = 0.001\n",
    "batch_size = 64\n",
    "optimizer = torch.optim.SGD(model.parameters(), lr=learning_rate)"
   ]
  },
  {
   "cell_type": "code",
   "execution_count": 7,
   "metadata": {
    "id": "Oci5g-ZNxi9X"
   },
   "outputs": [],
   "source": [
    "def train_loop(dataloader, model, loss_fn, optimizer, batch_size=64):\n",
    "    size = len(dataloader.dataset)\n",
    "    # Set the model to training mode - important for batch normalization and dropout layers\n",
    "    # Unnecessary in this situation but added for best practices\n",
    "    model.train()\n",
    "    for batch, (X, y) in enumerate(dataloader):\n",
    "        ## Compute prediction and loss\n",
    "\n",
    "        X = X.to(device)  # <-- here\n",
    "        y = y.to(device)  # <-- here\n",
    "\n",
    "        # 1 forward\n",
    "        pred = model(X)\n",
    "\n",
    "        # 2 compute the objective function\n",
    "        loss = loss_fn(pred, y)\n",
    "\n",
    "        # 3 cleaning the gradients\n",
    "        optimizer.zero_grad()\n",
    "\n",
    "        ## Backpropagation\n",
    "        # 4 accumulate the partial derivatives of loss wrt params\n",
    "        loss.backward() # params.grad._sum(dloss/dparams)\n",
    "\n",
    "        # 5 step in the opposite direction of the gradient\n",
    "        optimizer.step() # with torch.no_grad(): params = params - eta * params.grad\n",
    "\n",
    "        if batch % 100 == 0:\n",
    "            loss, current = loss.item(), batch * batch_size + len(X)\n",
    "            print(f\"loss: {loss:>7f}  [{current:>5d}/{size:>5d}]\")\n",
    "\n",
    "\n",
    "def test_loop(dataloader, model, loss_fn):\n",
    "    # Set the model to evaluation mode - important for batch normalization and dropout layers\n",
    "    # Unnecessary in this situation but added for best practices\n",
    "    model.eval()\n",
    "    size = len(dataloader.dataset)\n",
    "    num_batches = len(dataloader)\n",
    "    test_loss, correct = 0, 0\n",
    "\n",
    "    # Evaluating the model with torch.no_grad() ensures that no gradients are computed during test mode\n",
    "    # also serves to reduce unnecessary gradient computations and memory usage for tensors with requires_grad=True\n",
    "    with torch.no_grad():\n",
    "        for X, y in dataloader:\n",
    "            X = X.to(device)  # <-- here\n",
    "            y = y.to(device)  # <-- here\n",
    "            pred = model(X)\n",
    "            test_loss += loss_fn(pred, y).item()\n",
    "            correct += (pred.argmax(1) == y).type(torch.float).sum().item()\n",
    "\n",
    "    test_loss /= num_batches\n",
    "    correct /= size\n",
    "    print(f\"Test Error: \\n Accuracy: {(100*correct):>0.1f}%, Avg loss: {test_loss:>8f} \\n\")"
   ]
  },
  {
   "cell_type": "code",
   "execution_count": 8,
   "metadata": {
    "colab": {
     "base_uri": "https://localhost:8080/"
    },
    "id": "561QwumtyA-J",
    "outputId": "826cd495-09c3-425a-ab00-5cc1e518c318"
   },
   "outputs": [
    {
     "name": "stdout",
     "output_type": "stream",
     "text": [
      "Downloading http://fashion-mnist.s3-website.eu-central-1.amazonaws.com/train-images-idx3-ubyte.gz\n",
      "Downloading http://fashion-mnist.s3-website.eu-central-1.amazonaws.com/train-images-idx3-ubyte.gz to data/FashionMNIST/raw/train-images-idx3-ubyte.gz\n"
     ]
    },
    {
     "name": "stderr",
     "output_type": "stream",
     "text": [
      "100%|██████████| 26.4M/26.4M [00:01<00:00, 13.3MB/s]\n"
     ]
    },
    {
     "name": "stdout",
     "output_type": "stream",
     "text": [
      "Extracting data/FashionMNIST/raw/train-images-idx3-ubyte.gz to data/FashionMNIST/raw\n",
      "\n",
      "Downloading http://fashion-mnist.s3-website.eu-central-1.amazonaws.com/train-labels-idx1-ubyte.gz\n",
      "Downloading http://fashion-mnist.s3-website.eu-central-1.amazonaws.com/train-labels-idx1-ubyte.gz to data/FashionMNIST/raw/train-labels-idx1-ubyte.gz\n"
     ]
    },
    {
     "name": "stderr",
     "output_type": "stream",
     "text": [
      "100%|██████████| 29.5k/29.5k [00:00<00:00, 211kB/s]\n"
     ]
    },
    {
     "name": "stdout",
     "output_type": "stream",
     "text": [
      "Extracting data/FashionMNIST/raw/train-labels-idx1-ubyte.gz to data/FashionMNIST/raw\n",
      "\n",
      "Downloading http://fashion-mnist.s3-website.eu-central-1.amazonaws.com/t10k-images-idx3-ubyte.gz\n",
      "Downloading http://fashion-mnist.s3-website.eu-central-1.amazonaws.com/t10k-images-idx3-ubyte.gz to data/FashionMNIST/raw/t10k-images-idx3-ubyte.gz\n"
     ]
    },
    {
     "name": "stderr",
     "output_type": "stream",
     "text": [
      "100%|██████████| 4.42M/4.42M [00:01<00:00, 3.88MB/s]\n"
     ]
    },
    {
     "name": "stdout",
     "output_type": "stream",
     "text": [
      "Extracting data/FashionMNIST/raw/t10k-images-idx3-ubyte.gz to data/FashionMNIST/raw\n",
      "\n",
      "Downloading http://fashion-mnist.s3-website.eu-central-1.amazonaws.com/t10k-labels-idx1-ubyte.gz\n",
      "Downloading http://fashion-mnist.s3-website.eu-central-1.amazonaws.com/t10k-labels-idx1-ubyte.gz to data/FashionMNIST/raw/t10k-labels-idx1-ubyte.gz\n"
     ]
    },
    {
     "name": "stderr",
     "output_type": "stream",
     "text": [
      "100%|██████████| 5.15k/5.15k [00:00<00:00, 6.29MB/s]"
     ]
    },
    {
     "name": "stdout",
     "output_type": "stream",
     "text": [
      "Extracting data/FashionMNIST/raw/t10k-labels-idx1-ubyte.gz to data/FashionMNIST/raw\n",
      "\n"
     ]
    },
    {
     "name": "stderr",
     "output_type": "stream",
     "text": [
      "\n"
     ]
    }
   ],
   "source": [
    "training_data = datasets.FashionMNIST(\n",
    "    root=\"data\",\n",
    "    train=True,\n",
    "    download=True,\n",
    "    transform=ToTensor()\n",
    ")\n",
    "\n",
    "test_data = datasets.FashionMNIST(\n",
    "    root=\"data\",\n",
    "    train=False,\n",
    "    download=True,\n",
    "    transform=ToTensor()\n",
    ")\n",
    "\n",
    "train_dataloader = DataLoader(training_data, batch_size=batch_size)\n",
    "test_dataloader = DataLoader(test_data, batch_size=batch_size)"
   ]
  },
  {
   "cell_type": "code",
   "execution_count": 9,
   "metadata": {
    "colab": {
     "base_uri": "https://localhost:8080/"
    },
    "id": "Hjy1RZ4xx0ao",
    "outputId": "636ab97e-28c2-433e-dfed-310bda235f81"
   },
   "outputs": [
    {
     "name": "stdout",
     "output_type": "stream",
     "text": [
      "Epoch 1\n",
      "-------------------------------\n",
      "loss: 2.314119  [   64/60000]\n",
      "loss: 2.295859  [ 6464/60000]\n",
      "loss: 2.271147  [12864/60000]\n",
      "loss: 2.256501  [19264/60000]\n",
      "loss: 2.249931  [25664/60000]\n",
      "loss: 2.224010  [32064/60000]\n",
      "loss: 2.229151  [38464/60000]\n",
      "loss: 2.202724  [44864/60000]\n",
      "loss: 2.191143  [51264/60000]\n",
      "loss: 2.152983  [57664/60000]\n",
      "Test Error: \n",
      " Accuracy: 41.9%, Avg loss: 2.150848 \n",
      "\n",
      "Epoch 2\n",
      "-------------------------------\n",
      "loss: 2.163958  [   64/60000]\n",
      "loss: 2.150249  [ 6464/60000]\n",
      "loss: 2.088012  [12864/60000]\n",
      "loss: 2.097677  [19264/60000]\n",
      "loss: 2.054755  [25664/60000]\n",
      "loss: 1.995352  [32064/60000]\n",
      "loss: 2.021057  [38464/60000]\n",
      "loss: 1.945333  [44864/60000]\n",
      "loss: 1.952094  [51264/60000]\n",
      "loss: 1.865209  [57664/60000]\n",
      "Test Error: \n",
      " Accuracy: 55.7%, Avg loss: 1.870431 \n",
      "\n",
      "Epoch 3\n",
      "-------------------------------\n",
      "loss: 1.906721  [   64/60000]\n",
      "loss: 1.874307  [ 6464/60000]\n",
      "loss: 1.754199  [12864/60000]\n",
      "loss: 1.788075  [19264/60000]\n",
      "loss: 1.684679  [25664/60000]\n",
      "loss: 1.636643  [32064/60000]\n",
      "loss: 1.656013  [38464/60000]\n",
      "loss: 1.563460  [44864/60000]\n",
      "loss: 1.593029  [51264/60000]\n",
      "loss: 1.474863  [57664/60000]\n",
      "Test Error: \n",
      " Accuracy: 60.2%, Avg loss: 1.502745 \n",
      "\n",
      "Epoch 4\n",
      "-------------------------------\n",
      "loss: 1.571739  [   64/60000]\n",
      "loss: 1.537769  [ 6464/60000]\n",
      "loss: 1.388885  [12864/60000]\n",
      "loss: 1.451288  [19264/60000]\n",
      "loss: 1.341925  [25664/60000]\n",
      "loss: 1.335227  [32064/60000]\n",
      "loss: 1.345734  [38464/60000]\n",
      "loss: 1.276585  [44864/60000]\n",
      "loss: 1.310526  [51264/60000]\n",
      "loss: 1.205862  [57664/60000]\n",
      "Test Error: \n",
      " Accuracy: 63.1%, Avg loss: 1.238577 \n",
      "\n",
      "Epoch 5\n",
      "-------------------------------\n",
      "loss: 1.314021  [   64/60000]\n",
      "loss: 1.299515  [ 6464/60000]\n",
      "loss: 1.133387  [12864/60000]\n",
      "loss: 1.232729  [19264/60000]\n",
      "loss: 1.116203  [25664/60000]\n",
      "loss: 1.136383  [32064/60000]\n",
      "loss: 1.156051  [38464/60000]\n",
      "loss: 1.097246  [44864/60000]\n",
      "loss: 1.133752  [51264/60000]\n",
      "loss: 1.048195  [57664/60000]\n",
      "Test Error: \n",
      " Accuracy: 64.6%, Avg loss: 1.074478 \n",
      "\n",
      "Epoch 6\n",
      "-------------------------------\n",
      "loss: 1.141436  [   64/60000]\n",
      "loss: 1.149791  [ 6464/60000]\n",
      "loss: 0.965866  [12864/60000]\n",
      "loss: 1.096479  [19264/60000]\n",
      "loss: 0.978082  [25664/60000]\n",
      "loss: 1.003222  [32064/60000]\n",
      "loss: 1.039166  [38464/60000]\n",
      "loss: 0.984759  [44864/60000]\n",
      "loss: 1.019383  [51264/60000]\n",
      "loss: 0.949942  [57664/60000]\n",
      "Test Error: \n",
      " Accuracy: 65.8%, Avg loss: 0.969183 \n",
      "\n",
      "Epoch 7\n",
      "-------------------------------\n",
      "loss: 1.022567  [   64/60000]\n",
      "loss: 1.053712  [ 6464/60000]\n",
      "loss: 0.852599  [12864/60000]\n",
      "loss: 1.006087  [19264/60000]\n",
      "loss: 0.891071  [25664/60000]\n",
      "loss: 0.910538  [32064/60000]\n",
      "loss: 0.962786  [38464/60000]\n",
      "loss: 0.913168  [44864/60000]\n",
      "loss: 0.941025  [51264/60000]\n",
      "loss: 0.884443  [57664/60000]\n",
      "Test Error: \n",
      " Accuracy: 67.2%, Avg loss: 0.897964 \n",
      "\n",
      "Epoch 8\n",
      "-------------------------------\n",
      "loss: 0.936265  [   64/60000]\n",
      "loss: 0.988090  [ 6464/60000]\n",
      "loss: 0.772668  [12864/60000]\n",
      "loss: 0.942338  [19264/60000]\n",
      "loss: 0.833029  [25664/60000]\n",
      "loss: 0.843730  [32064/60000]\n",
      "loss: 0.909428  [38464/60000]\n",
      "loss: 0.866273  [44864/60000]\n",
      "loss: 0.884958  [51264/60000]\n",
      "loss: 0.837920  [57664/60000]\n",
      "Test Error: \n",
      " Accuracy: 68.4%, Avg loss: 0.847252 \n",
      "\n",
      "Epoch 9\n",
      "-------------------------------\n",
      "loss: 0.870824  [   64/60000]\n",
      "loss: 0.939890  [ 6464/60000]\n",
      "loss: 0.713761  [12864/60000]\n",
      "loss: 0.895534  [19264/60000]\n",
      "loss: 0.791736  [25664/60000]\n",
      "loss: 0.794379  [32064/60000]\n",
      "loss: 0.869376  [38464/60000]\n",
      "loss: 0.834010  [44864/60000]\n",
      "loss: 0.843368  [51264/60000]\n",
      "loss: 0.802933  [57664/60000]\n",
      "Test Error: \n",
      " Accuracy: 69.7%, Avg loss: 0.809227 \n",
      "\n",
      "Epoch 10\n",
      "-------------------------------\n",
      "loss: 0.818974  [   64/60000]\n",
      "loss: 0.902001  [ 6464/60000]\n",
      "loss: 0.668366  [12864/60000]\n",
      "loss: 0.859704  [19264/60000]\n",
      "loss: 0.760280  [25664/60000]\n",
      "loss: 0.756823  [32064/60000]\n",
      "loss: 0.837368  [38464/60000]\n",
      "loss: 0.810305  [44864/60000]\n",
      "loss: 0.811018  [51264/60000]\n",
      "loss: 0.775111  [57664/60000]\n",
      "Test Error: \n",
      " Accuracy: 71.0%, Avg loss: 0.779178 \n",
      "\n",
      "Done!\n"
     ]
    }
   ],
   "source": [
    "epochs = 10\n",
    "for t in range(epochs):\n",
    "    print(f\"Epoch {t+1}\\n-------------------------------\")\n",
    "    train_loop(train_dataloader, model, loss_fn, optimizer)\n",
    "    test_loop(test_dataloader, model, loss_fn)\n",
    "print(\"Done!\")"
   ]
  },
  {
   "cell_type": "code",
   "execution_count": 9,
   "metadata": {
    "id": "xv785zkhx41l"
   },
   "outputs": [],
   "source": []
  }
 ],
 "metadata": {
  "accelerator": "GPU",
  "colab": {
   "authorship_tag": "ABX9TyNULnVqyEksEmJYzviDArZ2",
   "gpuType": "T4",
   "include_colab_link": true,
   "provenance": []
  },
  "kernelspec": {
   "display_name": "Python 3 (ipykernel)",
   "language": "python",
   "name": "python3"
  },
  "language_info": {
   "codemirror_mode": {
    "name": "ipython",
    "version": 3
   },
   "file_extension": ".py",
   "mimetype": "text/x-python",
   "name": "python",
   "nbconvert_exporter": "python",
   "pygments_lexer": "ipython3",
   "version": "3.8.16"
  }
 },
 "nbformat": 4,
 "nbformat_minor": 4
}
