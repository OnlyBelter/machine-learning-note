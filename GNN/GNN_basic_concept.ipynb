{
  "nbformat": 4,
  "nbformat_minor": 0,
  "metadata": {
    "colab": {
      "provenance": [],
      "toc_visible": true,
      "authorship_tag": "ABX9TyMC11kxqyRGicA7/nlMx9Th",
      "include_colab_link": true
    },
    "kernelspec": {
      "name": "python3",
      "display_name": "Python 3"
    },
    "language_info": {
      "name": "python"
    }
  },
  "cells": [
    {
      "cell_type": "markdown",
      "metadata": {
        "id": "view-in-github",
        "colab_type": "text"
      },
      "source": [
        "<a href=\"https://colab.research.google.com/github/OnlyBelter/machine-learning-note/blob/master/GNN/GNN_basic_concept.ipynb\" target=\"_parent\"><img src=\"https://colab.research.google.com/assets/colab-badge.svg\" alt=\"Open In Colab\"/></a>"
      ]
    },
    {
      "cell_type": "code",
      "source": [
        "!pip install torch-geometric"
      ],
      "metadata": {
        "colab": {
          "base_uri": "https://localhost:8080/"
        },
        "id": "UOuCAjeepyPN",
        "outputId": "38f477d8-423c-4b6f-fa34-88702fb53485"
      },
      "execution_count": 1,
      "outputs": [
        {
          "output_type": "stream",
          "name": "stdout",
          "text": [
            "Requirement already satisfied: torch-geometric in /usr/local/lib/python3.11/dist-packages (2.6.1)\n",
            "Requirement already satisfied: aiohttp in /usr/local/lib/python3.11/dist-packages (from torch-geometric) (3.11.13)\n",
            "Requirement already satisfied: fsspec in /usr/local/lib/python3.11/dist-packages (from torch-geometric) (2024.10.0)\n",
            "Requirement already satisfied: jinja2 in /usr/local/lib/python3.11/dist-packages (from torch-geometric) (3.1.6)\n",
            "Requirement already satisfied: numpy in /usr/local/lib/python3.11/dist-packages (from torch-geometric) (2.0.2)\n",
            "Requirement already satisfied: psutil>=5.8.0 in /usr/local/lib/python3.11/dist-packages (from torch-geometric) (5.9.5)\n",
            "Requirement already satisfied: pyparsing in /usr/local/lib/python3.11/dist-packages (from torch-geometric) (3.2.1)\n",
            "Requirement already satisfied: requests in /usr/local/lib/python3.11/dist-packages (from torch-geometric) (2.32.3)\n",
            "Requirement already satisfied: tqdm in /usr/local/lib/python3.11/dist-packages (from torch-geometric) (4.67.1)\n",
            "Requirement already satisfied: aiohappyeyeballs>=2.3.0 in /usr/local/lib/python3.11/dist-packages (from aiohttp->torch-geometric) (2.6.1)\n",
            "Requirement already satisfied: aiosignal>=1.1.2 in /usr/local/lib/python3.11/dist-packages (from aiohttp->torch-geometric) (1.3.2)\n",
            "Requirement already satisfied: attrs>=17.3.0 in /usr/local/lib/python3.11/dist-packages (from aiohttp->torch-geometric) (25.3.0)\n",
            "Requirement already satisfied: frozenlist>=1.1.1 in /usr/local/lib/python3.11/dist-packages (from aiohttp->torch-geometric) (1.5.0)\n",
            "Requirement already satisfied: multidict<7.0,>=4.5 in /usr/local/lib/python3.11/dist-packages (from aiohttp->torch-geometric) (6.1.0)\n",
            "Requirement already satisfied: propcache>=0.2.0 in /usr/local/lib/python3.11/dist-packages (from aiohttp->torch-geometric) (0.3.0)\n",
            "Requirement already satisfied: yarl<2.0,>=1.17.0 in /usr/local/lib/python3.11/dist-packages (from aiohttp->torch-geometric) (1.18.3)\n",
            "Requirement already satisfied: MarkupSafe>=2.0 in /usr/local/lib/python3.11/dist-packages (from jinja2->torch-geometric) (3.0.2)\n",
            "Requirement already satisfied: charset-normalizer<4,>=2 in /usr/local/lib/python3.11/dist-packages (from requests->torch-geometric) (3.4.1)\n",
            "Requirement already satisfied: idna<4,>=2.5 in /usr/local/lib/python3.11/dist-packages (from requests->torch-geometric) (3.10)\n",
            "Requirement already satisfied: urllib3<3,>=1.21.1 in /usr/local/lib/python3.11/dist-packages (from requests->torch-geometric) (2.3.0)\n",
            "Requirement already satisfied: certifi>=2017.4.17 in /usr/local/lib/python3.11/dist-packages (from requests->torch-geometric) (2025.1.31)\n"
          ]
        }
      ]
    },
    {
      "cell_type": "markdown",
      "source": [
        "# 1. 定义图结构和初始节点特征"
      ],
      "metadata": {
        "id": "Lb7u6wPYriWO"
      }
    },
    {
      "cell_type": "code",
      "execution_count": 2,
      "metadata": {
        "id": "nkmBLoanpeZz"
      },
      "outputs": [],
      "source": [
        "import torch\n",
        "import torch.nn.functional as F\n",
        "from torch_geometric.nn import GCNConv\n",
        "\n",
        "# 定义图结构 - 边列表表示法\n",
        "edge_index = torch.tensor([\n",
        "    [0, 1, 0, 4, 1, 2, 1, 3, 3, 4],  # 源节点\n",
        "    [1, 0, 4, 0, 2, 1, 3, 1, 4, 3]   # 目标节点\n",
        "], dtype=torch.long)  # 无向图需要双向边\n",
        "\n",
        "# 初始节点特征 (每个节点有3维特征)\n",
        "x = torch.tensor([\n",
        "    [1, 0, 0],  # 节点0的特征\n",
        "    [0, 1, 0],  # 节点1的特征\n",
        "    [0, 0, 1],  # 节点2的特征\n",
        "    [1, 1, 0],  # 节点3的特征\n",
        "    [0, 1, 1]   # 节点4的特征\n",
        "], dtype=torch.float)\n"
      ]
    },
    {
      "cell_type": "markdown",
      "source": [
        "这部分定义了我们的5节点图。edge_index使用COO格式表示边，第一行是源节点，第二行是目标节点。x是每个节点的初始特征，这里我们使用了3维特征。"
      ],
      "metadata": {
        "id": "rjQQAE6gr1U2"
      }
    },
    {
      "cell_type": "markdown",
      "source": [
        "# 2. 定义GCN模型"
      ],
      "metadata": {
        "id": "-TCv_H1sr4Ue"
      }
    },
    {
      "cell_type": "code",
      "source": [
        "class SimpleGNN(torch.nn.Module):\n",
        "    def __init__(self, input_dim, hidden_dim, output_dim):\n",
        "        super(SimpleGNN, self).__init__()\n",
        "        # 第一层GCN: 输入维度，输出维度\n",
        "        self.conv1 = GCNConv(input_dim, hidden_dim)\n",
        "        # 第二层GCN: 输入维度，输出维度\n",
        "        self.conv2 = GCNConv(hidden_dim, output_dim)\n",
        "\n",
        "    def forward(self, x, edge_index):\n",
        "        # 第一层卷积 + 激活函数\n",
        "        h = self.conv1(x, edge_index)\n",
        "        h = F.relu(h)\n",
        "\n",
        "        # 第二层卷积\n",
        "        h = self.conv2(h, edge_index)\n",
        "\n",
        "        return h  # 返回所有节点的最终表示\n"
      ],
      "metadata": {
        "id": "yJ__X5dLpma6"
      },
      "execution_count": 3,
      "outputs": []
    },
    {
      "cell_type": "markdown",
      "source": [
        "这是一个简单的两层GCN模型。第一层将节点特征从input_dim维映射到hidden_dim维，然后应用ReLU激活函数。第二层将特征进一步映射到output_dim维，得到最终的节点表示。"
      ],
      "metadata": {
        "id": "fzRQOyrSsxUs"
      }
    },
    {
      "cell_type": "markdown",
      "source": [
        "# 3. 初始化模型"
      ],
      "metadata": {
        "id": "nlvVP9_es2ro"
      }
    },
    {
      "cell_type": "code",
      "source": [
        "input_dim = 3  # 初始节点特征维度\n",
        "hidden_dim = 8  # 隐藏层维度\n",
        "output_dim = 16  # 输出节点表示维度\n",
        "\n",
        "model = SimpleGNN(input_dim, hidden_dim, output_dim)\n"
      ],
      "metadata": {
        "id": "f4QvfgrypxBS"
      },
      "execution_count": 4,
      "outputs": []
    },
    {
      "cell_type": "markdown",
      "source": [
        "# 4. 获取节点表示"
      ],
      "metadata": {
        "id": "lrx6LvAhtCyf"
      }
    },
    {
      "cell_type": "code",
      "source": [
        "model.eval()\n",
        "with torch.no_grad():\n",
        "    node_embeddings = model(x, edge_index)\n"
      ],
      "metadata": {
        "id": "KPtR8oyjs8dk"
      },
      "execution_count": 5,
      "outputs": []
    },
    {
      "cell_type": "markdown",
      "source": [
        "将模型设置为评估模式，然后进行前向传播，得到每个节点的表示。"
      ],
      "metadata": {
        "id": "sbO9Y3tptKHd"
      }
    },
    {
      "cell_type": "markdown",
      "source": [
        "# 5. 打印节点表示"
      ],
      "metadata": {
        "id": "gBtzxmbNtLIA"
      }
    },
    {
      "cell_type": "code",
      "source": [
        "print(\"节点表示向量：\")\n",
        "for i, embedding in enumerate(node_embeddings):\n",
        "    print(f\"节点 {i} 的表示: {embedding}\")\n"
      ],
      "metadata": {
        "colab": {
          "base_uri": "https://localhost:8080/"
        },
        "id": "taCR4wOstHHc",
        "outputId": "7fc0039a-ece2-4b7e-ea09-46a473badfbb"
      },
      "execution_count": 6,
      "outputs": [
        {
          "output_type": "stream",
          "name": "stdout",
          "text": [
            "节点表示向量：\n",
            "节点 0 的表示: tensor([ 0.0392,  0.2471,  0.0344, -0.3071,  0.0045,  0.3343, -0.1731, -0.3266,\n",
            "        -0.5102,  0.0605,  0.3149,  0.0173,  0.1235, -0.4152, -0.1310, -0.0107])\n",
            "节点 1 的表示: tensor([ 0.0662,  0.2285,  0.0284, -0.4020, -0.0368,  0.3530, -0.2147, -0.4198,\n",
            "        -0.6632,  0.0690,  0.4349, -0.0095,  0.1799, -0.5193, -0.1640, -0.0150])\n",
            "节点 2 的表示: tensor([ 0.0409,  0.1648,  0.0528, -0.2432, -0.0502,  0.2052, -0.1131, -0.2292,\n",
            "        -0.3870,  0.0266,  0.2469, -0.0068,  0.1483, -0.3437, -0.1078, -0.0562])\n",
            "节点 3 的表示: tensor([ 0.0505,  0.2498,  0.0177, -0.3534,  0.0148,  0.3712, -0.2052, -0.3898,\n",
            "        -0.5958,  0.0731,  0.3736,  0.0117,  0.1270, -0.4523, -0.1443,  0.0152])\n",
            "节点 4 的表示: tensor([ 0.0572,  0.2326,  0.0045, -0.3786,  0.0089,  0.3747, -0.2208, -0.4207,\n",
            "        -0.6397,  0.0801,  0.4119,  0.0041,  0.1304, -0.4716, -0.1503,  0.0272])\n"
          ]
        }
      ]
    },
    {
      "cell_type": "markdown",
      "source": [
        "# 6. 手动跟踪GCN计算过程"
      ],
      "metadata": {
        "id": "9D-IZM03uOrh"
      }
    },
    {
      "cell_type": "code",
      "source": [
        "def manual_gcn_layer(x, edge_index, weight):\n",
        "    \"\"\"手动实现一个GCN层的计算过程\"\"\"\n",
        "    # 线性变换\n",
        "    x_transformed = x @ weight\n",
        "\n",
        "    # 提取源节点和目标节点\n",
        "    row, col = edge_index\n",
        "\n",
        "    # 计算度和归一化系数...\n",
        "\n",
        "    # 消息传递\n",
        "    out = torch.zeros_like(x_transformed)\n",
        "    for i in range(edge_index.size(1)):\n",
        "        src, dst = edge_index[0, i], edge_index[1, i]\n",
        "        out[dst] += norm[i] * x_transformed[src]\n",
        "\n",
        "    return out\n"
      ],
      "metadata": {
        "id": "ZX_1JZc2tO-t"
      },
      "execution_count": 7,
      "outputs": []
    },
    {
      "cell_type": "markdown",
      "source": [
        "这个函数手动实现了一个GCN层的计算过程，帮助理解GCN的内部工作原理。它包括线性变换、计算归一化系数和消息传递三个步骤。"
      ],
      "metadata": {
        "id": "Y8CiMuotuajG"
      }
    },
    {
      "cell_type": "code",
      "source": [],
      "metadata": {
        "id": "1Zvfl6YYuV3s"
      },
      "execution_count": null,
      "outputs": []
    }
  ]
}